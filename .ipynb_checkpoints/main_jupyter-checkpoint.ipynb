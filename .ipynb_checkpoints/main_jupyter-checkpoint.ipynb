{
 "cells": [
  {
   "cell_type": "code",
   "execution_count": null,
   "id": "initial_id",
   "metadata": {
    "collapsed": true,
    "is_executing": true,
    "ExecuteTime": {
     "start_time": "2023-11-12T00:01:07.546231500Z"
    }
   },
   "outputs": [],
   "source": [
    "!python -m torch.distributed.launch --nproc_per_node=8 main_dino.py --arch vit_small --data_path C:\\Users\\apa055\\Desktop\\DINO\\dino\\images\\acoustic\\sandeel_seabed --output_dir C:\\Users\\apa055\\Desktop\\DINO\\dino_output"
   ]
  }
 ],
 "metadata": {
  "kernelspec": {
   "display_name": "Python 3",
   "language": "python",
   "name": "python3"
  },
  "language_info": {
   "codemirror_mode": {
    "name": "ipython",
    "version": 2
   },
   "file_extension": ".py",
   "mimetype": "text/x-python",
   "name": "python",
   "nbconvert_exporter": "python",
   "pygments_lexer": "ipython2",
   "version": "2.7.6"
  }
 },
 "nbformat": 4,
 "nbformat_minor": 5
}
