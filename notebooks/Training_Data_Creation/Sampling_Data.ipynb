{
 "cells": [
  {
   "cell_type": "code",
   "execution_count": 1,
   "id": "initial_id",
   "metadata": {
    "collapsed": true,
    "ExecuteTime": {
     "end_time": "2024-03-27T23:47:33.335113800Z",
     "start_time": "2024-03-27T23:39:23.703623800Z"
    }
   },
   "outputs": [
    {
     "name": "stderr",
     "output_type": "stream",
     "text": [
      "Loading Data: 100%|██████████| 9/9 [08:09<00:00, 54.41s/it]\n"
     ]
    }
   ],
   "source": [
    "import numpy as np\n",
    "import pandas as pd\n",
    "from tqdm import tqdm\n",
    "import matplotlib.pyplot as plt\n",
    "\n",
    "years = [2007,2008,2009,2010,2011,2013,2014,2015,2016] #,2017,2018\n",
    "year_codes = [2007205,2008205,2009107,2010205,2011206,2013842,2014807,2015837,2016837] #,2017843,2018823\n",
    "patch_size = 8\n",
    "\n",
    "for y in tqdm(range(len(years)), desc=\"Loading Data\"):\n",
    "    var_name = f'patch_data_array_all_{years[y]}'\n",
    "    globals()[var_name] = np.load(f'/scratch/disk5/ahmet/data/{years[y]}/{year_codes[y]}/'\n",
    "                                  f'ACOUSTIC/GRIDDED/{year_codes[y]}_patch_data_array_all_{patch_size}w.npy',\n",
    "                                  allow_pickle=True)\n",
    "    indices_to_remove = np.where(globals()[var_name]['label'] == 'ignore')[0]\n",
    "    globals()[var_name] = np.delete(globals()[var_name], indices_to_remove, axis=0)\n",
    "    globals()[var_name]['total_elements'] = years[y] # Total elements colonuna yil yazdim\n"
   ]
  },
  {
   "cell_type": "code",
   "execution_count": 2,
   "outputs": [],
   "source": [
    "# Concatenation of the Data\n",
    "data_arrays = []\n",
    "\n",
    "# Append each data array to the list\n",
    "for y in range(len(years)):\n",
    "    var_name = f'patch_data_array_all_{years[y]}'\n",
    "    data_arrays.append(globals()[var_name])\n",
    "\n",
    "# Concatenate all arrays into a single array\n",
    "concatenated_data = np.concatenate(data_arrays, axis=0)\n",
    "concatenated_data = concatenated_data[~np.isnan(concatenated_data['Sv_all_mean'])]"
   ],
   "metadata": {
    "collapsed": false,
    "ExecuteTime": {
     "end_time": "2024-03-27T23:48:18.168698400Z",
     "start_time": "2024-03-27T23:47:54.079166900Z"
    }
   },
   "id": "474978007c67fd2d"
  },
  {
   "cell_type": "code",
   "execution_count": 3,
   "outputs": [
    {
     "data": {
      "text/plain": "<Figure size 1000x800 with 1 Axes>",
      "image/png": "[encoded data removed]"
     },
     "metadata": {},
     "output_type": "display_data"
    }
   ],
   "source": [
    "# Visualization: Equal bins (200)\n",
    "#plt.rcParams[\"axes.grid\"] = False\n",
    "plt.figure(figsize=(10,8))\n",
    "# Plot histogram of the average values\n",
    "plt.hist(concatenated_data['Sv_all_mean'], bins=250, color='blue', alpha=0.7, cumulative=False)\n",
    "plt.xlabel('Mean $S_v$')\n",
    "plt.ylabel('Frequency')\n",
    "plt.xlim(-76, 1)\n",
    "#plt.savefig('Sv_mean_all_data_equal_bins', dpi=600)\n",
    "plt.show()"
   ],
   "metadata": {
    "collapsed": false,
    "ExecuteTime": {
     "end_time": "2024-03-27T23:48:36.168817300Z",
     "start_time": "2024-03-27T23:48:25.046703200Z"
    }
   },
   "id": "26fb92936ee5fb18"
  },
  {
   "cell_type": "code",
   "execution_count": 4,
   "outputs": [
    {
     "data": {
      "text/plain": "array([-74.97656892, -74.23381131, -72.81949852, -70.24880473,\n       -59.73132642])"
     },
     "execution_count": 4,
     "metadata": {},
     "output_type": "execute_result"
    }
   ],
   "source": [
    "# Clean the data by removing NaN values\n",
    "clean_data = concatenated_data['Sv_all_mean'][~np.isnan(concatenated_data['Sv_all_mean'])]\n",
    "\n",
    "# Now calculate the quantile-based bin edges\n",
    "bin_edges = np.quantile(clean_data, np.linspace(0.1, 0.95, 5))\n",
    "bin_edges"
   ],
   "metadata": {
    "collapsed": false,
    "ExecuteTime": {
     "end_time": "2024-03-27T23:49:01.790299Z",
     "start_time": "2024-03-27T23:48:51.189213600Z"
    }
   },
   "id": "e6c258bbd5b2911"
  },
  {
   "cell_type": "code",
   "execution_count": 17,
   "outputs": [
    {
     "data": {
      "text/plain": "array([-74.9       , -71.86626528, -68.83253057, -65.79879585,\n       -62.76506114, -59.73132642])"
     },
     "execution_count": 17,
     "metadata": {},
     "output_type": "execute_result"
    }
   ],
   "source": [
    "borders_95_without_tail = np.linspace(-74.9, np.quantile(clean_data, 0.95),6)\n",
    "borders_95_without_tail"
   ],
   "metadata": {
    "collapsed": false,
    "ExecuteTime": {
     "end_time": "2024-03-27T23:01:42.149822400Z",
     "start_time": "2024-03-27T23:01:40.500314700Z"
    }
   },
   "id": "8a26c3e6c3357efa"
  },
  {
   "cell_type": "code",
   "execution_count": 17,
   "outputs": [
    {
     "data": {
      "text/plain": "array([-74.9       , -71.10783161, -67.31566321, -63.52349482,\n       -59.73132642,   0.        ])"
     },
     "execution_count": 17,
     "metadata": {},
     "output_type": "execute_result"
    }
   ],
   "source": [
    "borders_95_with_tail = np.append(np.linspace(-74.9, np.quantile(clean_data, 0.95),5), 0)\n",
    "borders_95_with_tail"
   ],
   "metadata": {
    "collapsed": false,
    "ExecuteTime": {
     "end_time": "2024-03-27T23:56:34.533324100Z",
     "start_time": "2024-03-27T23:56:31.429731600Z"
    }
   },
   "id": "5f9144e8e1553f39"
  },
  {
   "cell_type": "code",
   "execution_count": 18,
   "outputs": [
    {
     "name": "stdout",
     "output_type": "stream",
     "text": [
      "Sampled data contains 319995 instances.\n"
     ]
    }
   ],
   "source": [
    "import numpy as np\n",
    "\n",
    "# Assuming concatenated_data is a structured array or a 1D array with dtype that includes 'Sv_all_mean' and 'total_elements'\n",
    "# Bin edges that you provided\n",
    "bin_edges = borders_95_with_tail\n",
    "\n",
    "# Calculate the number of samples per bin\n",
    "samples_per_bin = 320000 // 5\n",
    "\n",
    "# Placeholders for the sampled indices\n",
    "sampled_indices = []\n",
    "\n",
    "# Iterate over the bins\n",
    "for i in range(len(bin_edges) - 1):\n",
    "    # Get the indices of all instances in the current bin\n",
    "    bin_indices = np.where((concatenated_data['Sv_all_mean'] >= bin_edges[i]) &\n",
    "                           (concatenated_data['Sv_all_mean'] < bin_edges[i + 1]))[0]\n",
    "\n",
    "    # Check if there are enough instances in the bin for sampling\n",
    "    if len(bin_indices) >= samples_per_bin:\n",
    "        # Randomly choose equal number of samples from each unique element based on 'total_elements'\n",
    "        unique_elements = np.unique(concatenated_data['total_elements'][bin_indices])\n",
    "        samples_per_unique = samples_per_bin // len(unique_elements)\n",
    "        \n",
    "        # Sample from each unique element\n",
    "        sampled_bin_indices = []\n",
    "        for element in unique_elements:\n",
    "            element_indices = bin_indices[concatenated_data['total_elements'][bin_indices] == element]\n",
    "            sampled_indices_per_element = np.random.choice(element_indices, size=samples_per_unique, replace=False)\n",
    "            sampled_bin_indices.extend(sampled_indices_per_element)\n",
    "    else:\n",
    "        # If not enough instances, you may need to handle this case separately\n",
    "        print(f\"Not enough samples in bin {i}, needed {samples_per_bin}, but only have {len(bin_indices)}.\")\n",
    "        sampled_bin_indices = bin_indices  # Use all available indices (or handle differently)\n",
    "\n",
    "    # Append the sampled indices for this bin to the overall list\n",
    "    sampled_indices.extend(sampled_bin_indices)\n",
    "\n",
    "# Concatenate all sampled instances into one array\n",
    "sampled_data = concatenated_data[sampled_indices]\n",
    "\n",
    "# Verify the size of the sampled data\n",
    "print(f\"Sampled data contains {len(sampled_data)} instances.\")\n"
   ],
   "metadata": {
    "collapsed": false,
    "ExecuteTime": {
     "end_time": "2024-03-27T23:57:30.365284300Z",
     "start_time": "2024-03-27T23:56:51.786238500Z"
    }
   },
   "id": "c6504e4cb7d2259f"
  },
  {
   "cell_type": "code",
   "execution_count": 19,
   "outputs": [],
   "source": [
    "sampled_data = concatenated_data[np.append(sampled_indices,[1,2,3,4,5])]"
   ],
   "metadata": {
    "collapsed": false,
    "ExecuteTime": {
     "end_time": "2024-03-27T23:57:38.019261900Z",
     "start_time": "2024-03-27T23:57:37.880341300Z"
    }
   },
   "id": "fffb84ac044874b0"
  },
  {
   "cell_type": "code",
   "execution_count": 20,
   "outputs": [
    {
     "data": {
      "text/plain": "(array([2007, 2008, 2009, 2010, 2011, 2013, 2014, 2015, 2016]),\n array([35560, 35555, 35555, 35555, 35555, 35555, 35555, 35555, 35555]))"
     },
     "execution_count": 20,
     "metadata": {},
     "output_type": "execute_result"
    }
   ],
   "source": [
    "np.unique(sampled_data['total_elements'],return_counts=True)"
   ],
   "metadata": {
    "collapsed": false,
    "ExecuteTime": {
     "end_time": "2024-03-27T23:57:40.285421100Z",
     "start_time": "2024-03-27T23:57:40.274910500Z"
    }
   },
   "id": "de36358528c0967c"
  },
  {
   "cell_type": "code",
   "execution_count": 21,
   "outputs": [
    {
     "data": {
      "text/plain": "320000"
     },
     "execution_count": 21,
     "metadata": {},
     "output_type": "execute_result"
    }
   ],
   "source": [
    "len(sampled_data)"
   ],
   "metadata": {
    "collapsed": false,
    "ExecuteTime": {
     "end_time": "2024-03-27T23:57:43.563131600Z",
     "start_time": "2024-03-27T23:57:43.539134Z"
    }
   },
   "id": "f3ba574fc943c5d6"
  },
  {
   "cell_type": "code",
   "execution_count": 22,
   "outputs": [
    {
     "data": {
      "text/plain": "320000"
     },
     "execution_count": 22,
     "metadata": {},
     "output_type": "execute_result"
    }
   ],
   "source": [
    "len(sampled_data[~np.isnan(sampled_data['Sv_all_mean'])])"
   ],
   "metadata": {
    "collapsed": false,
    "ExecuteTime": {
     "end_time": "2024-03-27T23:57:45.992893300Z",
     "start_time": "2024-03-27T23:57:45.908005Z"
    }
   },
   "id": "a630cd3b4fd224a4"
  },
  {
   "cell_type": "code",
   "execution_count": 23,
   "outputs": [
    {
     "data": {
      "text/plain": "<Figure size 640x480 with 1 Axes>",
      "image/png": "[encoded data removed]"
     },
     "metadata": {},
     "output_type": "display_data"
    }
   ],
   "source": [
    "import matplotlib.pyplot as plt\n",
    "\n",
    "# Plot the histogram for the sampled data on the second subplot\n",
    "plt.hist(sampled_data['Sv_all_mean'], bins=100, color='black', cumulative=False)\n",
    "plt.title('Intensity-Based Sampled')\n",
    "plt.xlabel('Mean $S_v$')\n",
    "plt.ylabel('Frequency')\n",
    "#plt.xlim(-76, 1)\n",
    "\n",
    "plt.show()\n"
   ],
   "metadata": {
    "collapsed": false,
    "ExecuteTime": {
     "end_time": "2024-03-27T23:57:49.012700Z",
     "start_time": "2024-03-27T23:57:48.572578700Z"
    }
   },
   "id": "eac765bfe57ca9e6"
  },
  {
   "cell_type": "code",
   "execution_count": 24,
   "outputs": [],
   "source": [
    "np.save('/scratch/disk5/ahmet/data/8w_Sampled_Data_9Years/Intensity_Based4/detailed_8w_IntensityBased4_16Batch_200Ep_100Iter_320000.npy', sampled_data)"
   ],
   "metadata": {
    "collapsed": false,
    "ExecuteTime": {
     "end_time": "2024-03-27T23:58:19.753033800Z",
     "start_time": "2024-03-27T23:58:19.669984700Z"
    }
   },
   "id": "b9e2c64a7cc35e13"
  }
 ],
 "metadata": {
  "kernelspec": {
   "display_name": "Python 3",
   "language": "python",
   "name": "python3"
  },
  "language_info": {
   "codemirror_mode": {
    "name": "ipython",
    "version": 2
   },
   "file_extension": ".py",
   "mimetype": "text/x-python",
   "name": "python",
   "nbconvert_exporter": "python",
   "pygments_lexer": "ipython2",
   "version": "2.7.6"
  }
 },
 "nbformat": 4,
 "nbformat_minor": 5
}
